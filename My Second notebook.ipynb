{
 "cells": [
  {
   "cell_type": "code",
   "execution_count": 23,
   "id": "069f19ee",
   "metadata": {},
   "outputs": [
    {
     "name": "stdout",
     "output_type": "stream",
     "text": [
      "80000.0\n"
     ]
    }
   ],
   "source": [
    "price = 100000\n",
    "\n",
    "if price >= 100000:\n",
    "    discount = price *0.2\n",
    "    print(price -discount)\n",
    "elif price >= 50000 and price <= 99000:\n",
    "    discount = price *0.1\n",
    "    print(price -discount)\n",
    "elif price <= 50000:\n",
    "     discount = price *0.05\n",
    "     print(price -discount)\n"
   ]
  },
  {
   "cell_type": "code",
   "execution_count": 24,
   "id": "0cfbddd5",
   "metadata": {},
   "outputs": [
    {
     "name": "stdout",
     "output_type": "stream",
     "text": [
      "<class 'list'>\n"
     ]
    }
   ],
   "source": [
    "my_list = [1,2,3,4]\n",
    "\n",
    "print(type(my_list))\n",
    "    "
   ]
  },
  {
   "cell_type": "code",
   "execution_count": 41,
   "id": "b0023434",
   "metadata": {
    "scrolled": true
   },
   "outputs": [
    {
     "name": "stdout",
     "output_type": "stream",
     "text": [
      "prisca\n"
     ]
    },
    {
     "data": {
      "text/plain": [
       "['dickson', 'josh', 'emmanuel']"
      ]
     },
     "execution_count": 41,
     "metadata": {},
     "output_type": "execute_result"
    }
   ],
   "source": [
    "student_list =['dickson','josh','emmanuel','lawrence','prisca','lilian']\n",
    "print(student_list[4])\n",
    "(student_list[3])\n",
    "(student_list[0:3])\n",
    "     "
   ]
  },
  {
   "cell_type": "code",
   "execution_count": null,
   "id": "bc0b39a7",
   "metadata": {},
   "outputs": [],
   "source": []
  }
 ],
 "metadata": {
  "kernelspec": {
   "display_name": "Python 3 (ipykernel)",
   "language": "python",
   "name": "python3"
  },
  "language_info": {
   "codemirror_mode": {
    "name": "ipython",
    "version": 3
   },
   "file_extension": ".py",
   "mimetype": "text/x-python",
   "name": "python",
   "nbconvert_exporter": "python",
   "pygments_lexer": "ipython3",
   "version": "3.11.3"
  }
 },
 "nbformat": 4,
 "nbformat_minor": 5
}
