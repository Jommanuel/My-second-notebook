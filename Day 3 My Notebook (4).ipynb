{
 "cells": [
  {
   "cell_type": "markdown",
   "id": "04c179f3",
   "metadata": {},
   "source": [
    "<p align=\"center\" >\n",
    "<a href=\"https://www.wdc.ng/\">\n",
    "<img src='https://images.yalwa.com.ng/Wild-Fusion-Digital-Centre/vap_1019131596.png'>\n",
    "</a>\n",
    "</p>"
   ]
  },
  {
   "cell_type": "markdown",
   "id": "4bd75667",
   "metadata": {},
   "source": [
    "### Pandas Series Exercise"
   ]
  },
  {
   "cell_type": "code",
   "execution_count": 1,
   "id": "661df537",
   "metadata": {},
   "outputs": [],
   "source": [
    "import pandas as pd"
   ]
  },
  {
   "cell_type": "code",
   "execution_count": 2,
   "id": "0ae56df6-a613-43cd-b200-7b500229b81b",
   "metadata": {},
   "outputs": [],
   "source": [
    "labels = ['a','b','c','d','e']\n",
    "data = [10, 20, 30, 40, 50]\n",
    "data_dict = {'A': 10, 'B': 20, 'C': 30, 'D': 40, 'E': 50}\n"
   ]
  },
  {
   "cell_type": "code",
   "execution_count": 10,
   "id": "2042eeca",
   "metadata": {
    "scrolled": true
   },
   "outputs": [],
   "source": [
    "ho=pd.Series(data_dict)"
   ]
  },
  {
   "cell_type": "code",
   "execution_count": 11,
   "id": "08d5b094",
   "metadata": {},
   "outputs": [
    {
     "data": {
      "text/plain": [
       "A    10\n",
       "B    20\n",
       "C    30\n",
       "D    40\n",
       "E    50\n",
       "dtype: int64"
      ]
     },
     "execution_count": 11,
     "metadata": {},
     "output_type": "execute_result"
    }
   ],
   "source": [
    "ho"
   ]
  },
  {
   "cell_type": "code",
   "execution_count": 23,
   "id": "d4c89bb3",
   "metadata": {},
   "outputs": [
    {
     "name": "stdout",
     "output_type": "stream",
     "text": [
      "30\n",
      "40\n"
     ]
    }
   ],
   "source": [
    "print(ho['C'])\n",
    "print(ho['D'])"
   ]
  },
  {
   "cell_type": "code",
   "execution_count": 5,
   "id": "f3ee330a",
   "metadata": {},
   "outputs": [
    {
     "data": {
      "text/plain": [
       "a    10\n",
       "b    20\n",
       "c    30\n",
       "d    40\n",
       "e    50\n",
       "dtype: int64"
      ]
     },
     "execution_count": 5,
     "metadata": {},
     "output_type": "execute_result"
    }
   ],
   "source": [
    "Ser = pd.Series(data,labels)\n",
    "Ser"
   ]
  },
  {
   "cell_type": "markdown",
   "id": "f0c964bc",
   "metadata": {},
   "source": [
    "### Pandas DataFrame Exercise"
   ]
  },
  {
   "cell_type": "code",
   "execution_count": 24,
   "id": "08a1c401",
   "metadata": {},
   "outputs": [],
   "source": [
    "data2 = {'Name': ['Alice', 'Bob', 'Charlie'],\n",
    "        'Age': [25, 30, 35],\n",
    "        'City': ['New York', 'San Francisco', 'Los Angeles']}"
   ]
  },
  {
   "cell_type": "code",
   "execution_count": 29,
   "id": "e8fb2bd1",
   "metadata": {
    "scrolled": true
   },
   "outputs": [
    {
     "data": {
      "text/html": [
       "<div>\n",
       "<style scoped>\n",
       "    .dataframe tbody tr th:only-of-type {\n",
       "        vertical-align: middle;\n",
       "    }\n",
       "\n",
       "    .dataframe tbody tr th {\n",
       "        vertical-align: top;\n",
       "    }\n",
       "\n",
       "    .dataframe thead th {\n",
       "        text-align: right;\n",
       "    }\n",
       "</style>\n",
       "<table border=\"1\" class=\"dataframe\">\n",
       "  <thead>\n",
       "    <tr style=\"text-align: right;\">\n",
       "      <th></th>\n",
       "      <th>Name</th>\n",
       "      <th>Age</th>\n",
       "      <th>City</th>\n",
       "    </tr>\n",
       "  </thead>\n",
       "  <tbody>\n",
       "    <tr>\n",
       "      <th>0</th>\n",
       "      <td>Alice</td>\n",
       "      <td>25</td>\n",
       "      <td>New York</td>\n",
       "    </tr>\n",
       "    <tr>\n",
       "      <th>1</th>\n",
       "      <td>Bob</td>\n",
       "      <td>30</td>\n",
       "      <td>San Francisco</td>\n",
       "    </tr>\n",
       "    <tr>\n",
       "      <th>2</th>\n",
       "      <td>Charlie</td>\n",
       "      <td>35</td>\n",
       "      <td>Los Angeles</td>\n",
       "    </tr>\n",
       "  </tbody>\n",
       "</table>\n",
       "</div>"
      ],
      "text/plain": [
       "      Name  Age           City\n",
       "0    Alice   25       New York\n",
       "1      Bob   30  San Francisco\n",
       "2  Charlie   35    Los Angeles"
      ]
     },
     "execution_count": 29,
     "metadata": {},
     "output_type": "execute_result"
    }
   ],
   "source": [
    "by=pd.DataFrame(data2)\n",
    "by\n"
   ]
  },
  {
   "cell_type": "code",
   "execution_count": 31,
   "id": "2bd2e3c5",
   "metadata": {
    "scrolled": true
   },
   "outputs": [
    {
     "name": "stdout",
     "output_type": "stream",
     "text": [
      "0         New York\n",
      "1    San Francisco\n",
      "2      Los Angeles\n",
      "Name: City, dtype: object\n"
     ]
    }
   ],
   "source": [
    "print(by['City'])"
   ]
  },
  {
   "cell_type": "code",
   "execution_count": 34,
   "id": "b7d12631",
   "metadata": {
    "scrolled": false
   },
   "outputs": [
    {
     "data": {
      "text/html": [
       "<div>\n",
       "<style scoped>\n",
       "    .dataframe tbody tr th:only-of-type {\n",
       "        vertical-align: middle;\n",
       "    }\n",
       "\n",
       "    .dataframe tbody tr th {\n",
       "        vertical-align: top;\n",
       "    }\n",
       "\n",
       "    .dataframe thead th {\n",
       "        text-align: right;\n",
       "    }\n",
       "</style>\n",
       "<table border=\"1\" class=\"dataframe\">\n",
       "  <thead>\n",
       "    <tr style=\"text-align: right;\">\n",
       "      <th></th>\n",
       "      <th>Name</th>\n",
       "      <th>Age</th>\n",
       "      <th>City</th>\n",
       "      <th>lastname</th>\n",
       "    </tr>\n",
       "  </thead>\n",
       "  <tbody>\n",
       "    <tr>\n",
       "      <th>0</th>\n",
       "      <td>Alice</td>\n",
       "      <td>25</td>\n",
       "      <td>New York</td>\n",
       "      <td>Johnson</td>\n",
       "    </tr>\n",
       "    <tr>\n",
       "      <th>1</th>\n",
       "      <td>Bob</td>\n",
       "      <td>30</td>\n",
       "      <td>San Francisco</td>\n",
       "      <td>Marculey</td>\n",
       "    </tr>\n",
       "    <tr>\n",
       "      <th>2</th>\n",
       "      <td>Charlie</td>\n",
       "      <td>35</td>\n",
       "      <td>Los Angeles</td>\n",
       "      <td>Binlarden</td>\n",
       "    </tr>\n",
       "  </tbody>\n",
       "</table>\n",
       "</div>"
      ],
      "text/plain": [
       "      Name  Age           City   lastname\n",
       "0    Alice   25       New York    Johnson\n",
       "1      Bob   30  San Francisco   Marculey\n",
       "2  Charlie   35    Los Angeles  Binlarden"
      ]
     },
     "execution_count": 34,
     "metadata": {},
     "output_type": "execute_result"
    }
   ],
   "source": [
    "by['lastname']=['Johnson','Marculey','Binlarden']\n",
    "by"
   ]
  },
  {
   "cell_type": "code",
   "execution_count": 49,
   "id": "97f01747",
   "metadata": {
    "scrolled": true
   },
   "outputs": [
    {
     "data": {
      "text/plain": [
       "0    False\n",
       "1     True\n",
       "2    False\n",
       "Name: City, dtype: bool"
      ]
     },
     "execution_count": 49,
     "metadata": {},
     "output_type": "execute_result"
    }
   ],
   "source": [
    "by['City']=='San Francisco'"
   ]
  },
  {
   "cell_type": "code",
   "execution_count": 50,
   "id": "05d14250",
   "metadata": {},
   "outputs": [
    {
     "data": {
      "text/html": [
       "<div>\n",
       "<style scoped>\n",
       "    .dataframe tbody tr th:only-of-type {\n",
       "        vertical-align: middle;\n",
       "    }\n",
       "\n",
       "    .dataframe tbody tr th {\n",
       "        vertical-align: top;\n",
       "    }\n",
       "\n",
       "    .dataframe thead th {\n",
       "        text-align: right;\n",
       "    }\n",
       "</style>\n",
       "<table border=\"1\" class=\"dataframe\">\n",
       "  <thead>\n",
       "    <tr style=\"text-align: right;\">\n",
       "      <th></th>\n",
       "      <th>Name</th>\n",
       "      <th>Age</th>\n",
       "      <th>City</th>\n",
       "      <th>lastname</th>\n",
       "    </tr>\n",
       "  </thead>\n",
       "  <tbody>\n",
       "    <tr>\n",
       "      <th>1</th>\n",
       "      <td>Bob</td>\n",
       "      <td>30</td>\n",
       "      <td>San Francisco</td>\n",
       "      <td>Marculey</td>\n",
       "    </tr>\n",
       "  </tbody>\n",
       "</table>\n",
       "</div>"
      ],
      "text/plain": [
       "  Name  Age           City  lastname\n",
       "1  Bob   30  San Francisco  Marculey"
      ]
     },
     "execution_count": 50,
     "metadata": {},
     "output_type": "execute_result"
    }
   ],
   "source": [
    "by[(by['City']=='San Francisco')]"
   ]
  },
  {
   "cell_type": "markdown",
   "id": "1ffdd872",
   "metadata": {},
   "source": [
    "### Pandas Groupby Exercise"
   ]
  },
  {
   "cell_type": "code",
   "execution_count": 58,
   "id": "55573ac5",
   "metadata": {},
   "outputs": [],
   "source": [
    "data3 = {'Region': ['North', 'North', 'South', 'South', 'East'],\n",
    "        'Category': ['Electronics', 'Furniture', 'Electronics', 'Furniture', 'Electronics'],\n",
    "        'Sales': [1000, 800, 1200, 900, 1500],\n",
    "        'Profit': [200, 100, 250, 120, 300]}\n",
    "df = pd.DataFrame(data)\n"
   ]
  },
  {
   "cell_type": "code",
   "execution_count": 45,
   "id": "307acb82",
   "metadata": {},
   "outputs": [
    {
     "data": {
      "text/html": [
       "<div>\n",
       "<style scoped>\n",
       "    .dataframe tbody tr th:only-of-type {\n",
       "        vertical-align: middle;\n",
       "    }\n",
       "\n",
       "    .dataframe tbody tr th {\n",
       "        vertical-align: top;\n",
       "    }\n",
       "\n",
       "    .dataframe thead th {\n",
       "        text-align: right;\n",
       "    }\n",
       "</style>\n",
       "<table border=\"1\" class=\"dataframe\">\n",
       "  <thead>\n",
       "    <tr style=\"text-align: right;\">\n",
       "      <th></th>\n",
       "      <th>0</th>\n",
       "    </tr>\n",
       "  </thead>\n",
       "  <tbody>\n",
       "    <tr>\n",
       "      <th>0</th>\n",
       "      <td>10</td>\n",
       "    </tr>\n",
       "    <tr>\n",
       "      <th>1</th>\n",
       "      <td>20</td>\n",
       "    </tr>\n",
       "    <tr>\n",
       "      <th>2</th>\n",
       "      <td>30</td>\n",
       "    </tr>\n",
       "    <tr>\n",
       "      <th>3</th>\n",
       "      <td>40</td>\n",
       "    </tr>\n",
       "    <tr>\n",
       "      <th>4</th>\n",
       "      <td>50</td>\n",
       "    </tr>\n",
       "  </tbody>\n",
       "</table>\n",
       "</div>"
      ],
      "text/plain": [
       "    0\n",
       "0  10\n",
       "1  20\n",
       "2  30\n",
       "3  40\n",
       "4  50"
      ]
     },
     "execution_count": 45,
     "metadata": {},
     "output_type": "execute_result"
    }
   ],
   "source": []
  },
  {
   "cell_type": "markdown",
   "id": "08179b21",
   "metadata": {},
   "source": [
    "### Joins "
   ]
  },
  {
   "cell_type": "code",
   "execution_count": 86,
   "id": "c14392cb",
   "metadata": {},
   "outputs": [],
   "source": [
    "data4 = {'ID': [1, 2, 3],\n",
    "         'Name': ['Alice', 'Bob', 'Charlie']}\n",
    "data5 = {'ID': [2, 3, 4],\n",
    "         'Age': [25, 30, 35]}\n",
    "\n",
    "df1 = pd.DataFrame(data4)\n",
    "df2 = pd.DataFrame(data5)"
   ]
  },
  {
   "cell_type": "markdown",
   "id": "d2833be0",
   "metadata": {},
   "source": [
    "### Pivot Table Exercise"
   ]
  },
  {
   "cell_type": "code",
   "execution_count": 87,
   "id": "ebc5d41d",
   "metadata": {},
   "outputs": [],
   "source": [
    "data6 = {'Category': ['A', 'A', 'A', 'B', 'A'],\n",
    "        'Region': ['North', 'North', 'South', 'South', 'East'],\n",
    "        'Sales': [100, 200, 150, 250, 120]}"
   ]
  },
  {
   "cell_type": "code",
   "execution_count": null,
   "id": "a53fc24f",
   "metadata": {},
   "outputs": [],
   "source": []
  }
 ],
 "metadata": {
  "kernelspec": {
   "display_name": "Python 3 (ipykernel)",
   "language": "python",
   "name": "python3"
  },
  "language_info": {
   "codemirror_mode": {
    "name": "ipython",
    "version": 3
   },
   "file_extension": ".py",
   "mimetype": "text/x-python",
   "name": "python",
   "nbconvert_exporter": "python",
   "pygments_lexer": "ipython3",
   "version": "3.11.3"
  }
 },
 "nbformat": 4,
 "nbformat_minor": 5
}
